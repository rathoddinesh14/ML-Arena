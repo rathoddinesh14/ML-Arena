{
 "cells": [
  {
   "cell_type": "code",
   "execution_count": 14,
   "metadata": {},
   "outputs": [],
   "source": [
    "import networkx as nx"
   ]
  },
  {
   "cell_type": "code",
   "execution_count": 15,
   "metadata": {},
   "outputs": [
    {
     "data": {
      "image/png": "[encoded data removed]",
      "text/plain": [
       "<Figure size 640x480 with 1 Axes>"
      ]
     },
     "metadata": {},
     "output_type": "display_data"
    }
   ],
   "source": [
    "num_nodes = 10\n",
    "G = nx.gnp_random_graph(num_nodes, 0.1)\n",
    "nx.draw(G, with_labels=True)"
   ]
  },
  {
   "cell_type": "code",
   "execution_count": 16,
   "metadata": {},
   "outputs": [
    {
     "name": "stdout",
     "output_type": "stream",
     "text": [
      "[[0 1 0 0 0 0 0 1 1 0]\n",
      " [1 0 0 0 0 0 0 1 1 0]\n",
      " [0 0 0 0 0 0 0 0 0 1]\n",
      " [0 0 0 0 0 0 1 0 1 0]\n",
      " [0 0 0 0 0 0 0 0 0 0]\n",
      " [0 0 0 0 0 0 0 0 0 0]\n",
      " [0 0 0 1 0 0 0 0 0 0]\n",
      " [1 1 0 0 0 0 0 0 0 0]\n",
      " [1 1 0 1 0 0 0 0 0 0]\n",
      " [0 0 1 0 0 0 0 0 0 0]]\n"
     ]
    },
    {
     "name": "stderr",
     "output_type": "stream",
     "text": [
      "/var/folders/5y/zj9fgrnd0_gbkdgjxgwndv080000gn/T/ipykernel_97187/800297321.py:1: FutureWarning: adjacency_matrix will return a scipy.sparse array instead of a matrix in Networkx 3.0.\n",
      "  agj_mat = nx.adjacency_matrix(G)\n"
     ]
    }
   ],
   "source": [
    "agj_mat = nx.adjacency_matrix(G)\n",
    "agj_mat = agj_mat.todense()\n",
    "print(agj_mat)"
   ]
  },
  {
   "cell_type": "markdown",
   "metadata": {},
   "source": [
    "# B is incidence matrix of the graph, L = B B^T\n",
    "```python\n",
    "incidence_matrix(G, nodelist=None, edgelist=None, oriented=False, weight=None)\n",
    "```\n",
    "**Returns incidence matrix of G.**\n",
    "\n",
    "The incidence matrix assigns each row to a node and each column to an edge. For a standard incidence matrix a 1 appears wherever a row’s node is incident on the column’s edge. For an oriented incidence matrix each edge is assigned an orientation (arbitrarily for undirected and aligning to direction for directed). A -1 appears for the source (tail) of an edge and 1 for the destination (head) of the edge. The elements are zero otherwise."
   ]
  },
  {
   "cell_type": "code",
   "execution_count": 17,
   "metadata": {},
   "outputs": [
    {
     "name": "stdout",
     "output_type": "stream",
     "text": [
      "[[-1. -1. -1.  0.  0.  0.  0.  0.]\n",
      " [ 1.  0.  0. -1. -1.  0.  0.  0.]\n",
      " [ 0.  0.  0.  0.  0. -1.  0.  0.]\n",
      " [ 0.  0.  0.  0.  0.  0. -1. -1.]\n",
      " [ 0.  0.  0.  0.  0.  0.  0.  0.]\n",
      " [ 0.  0.  0.  0.  0.  0.  0.  0.]\n",
      " [ 0.  0.  0.  0.  0.  0.  1.  0.]\n",
      " [ 0.  1.  0.  1.  0.  0.  0.  0.]\n",
      " [ 0.  0.  1.  0.  1.  0.  0.  1.]\n",
      " [ 0.  0.  0.  0.  0.  1.  0.  0.]]\n"
     ]
    },
    {
     "name": "stderr",
     "output_type": "stream",
     "text": [
      "/var/folders/5y/zj9fgrnd0_gbkdgjxgwndv080000gn/T/ipykernel_97187/2598756642.py:1: FutureWarning: incidence_matrix will return a scipy.sparse array instead of a matrix in Networkx 3.0.\n",
      "  inci_mat = nx.incidence_matrix(G, oriented=True)\n"
     ]
    }
   ],
   "source": [
    "inci_mat = nx.incidence_matrix(G, oriented=True)\n",
    "inci_mat = inci_mat.todense()\n",
    "print(inci_mat)"
   ]
  },
  {
   "cell_type": "code",
   "execution_count": 18,
   "metadata": {},
   "outputs": [
    {
     "name": "stdout",
     "output_type": "stream",
     "text": [
      "[[ 3 -1  0  0  0  0  0 -1 -1  0]\n",
      " [-1  3  0  0  0  0  0 -1 -1  0]\n",
      " [ 0  0  1  0  0  0  0  0  0 -1]\n",
      " [ 0  0  0  2  0  0 -1  0 -1  0]\n",
      " [ 0  0  0  0  0  0  0  0  0  0]\n",
      " [ 0  0  0  0  0  0  0  0  0  0]\n",
      " [ 0  0  0 -1  0  0  1  0  0  0]\n",
      " [-1 -1  0  0  0  0  0  2  0  0]\n",
      " [-1 -1  0 -1  0  0  0  0  3  0]\n",
      " [ 0  0 -1  0  0  0  0  0  0  1]]\n"
     ]
    }
   ],
   "source": [
    "lapl_mat = nx.laplacian_matrix(G)\n",
    "lapl_mat = lapl_mat.todense()\n",
    "print(lapl_mat)"
   ]
  },
  {
   "cell_type": "code",
   "execution_count": null,
   "metadata": {},
   "outputs": [],
   "source": []
  }
 ],
 "metadata": {
  "kernelspec": {
   "display_name": "Python 3.10.8 64-bit",
   "language": "python",
   "name": "python3"
  },
  "language_info": {
   "codemirror_mode": {
    "name": "ipython",
    "version": 3
   },
   "file_extension": ".py",
   "mimetype": "text/x-python",
   "name": "python",
   "nbconvert_exporter": "python",
   "pygments_lexer": "ipython3",
   "version": "3.10.8"
  },
  "orig_nbformat": 4,
  "vscode": {
   "interpreter": {
    "hash": "aee8b7b246df8f9039afb4144a1f6fd8d2ca17a180786b69acc140d282b71a49"
   }
  }
 },
 "nbformat": 4,
 "nbformat_minor": 2
}
